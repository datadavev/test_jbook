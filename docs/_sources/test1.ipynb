{
 "cells": [
  {
   "cell_type": "markdown",
   "id": "843dbefa",
   "metadata": {},
   "source": [
    "# Test Page\n",
    "\n",
    "Reference segment of external file.\n",
    "\n",
    "```{literalinclude} test1.jsonld\n",
    ":linenos:\n",
    "```\n",
    "\n",
    "Include selection of lines:\n",
    "\n",
    "```{literalinclude} test1.jsonld\n",
    ":linenos:\n",
    ":lines: 2-5\n",
    "```\n",
    "\n",
    "Include selection of lines and emphasize 2 lines:\n",
    "\n",
    "```{literalinclude} test1.jsonld\n",
    ":linenos:\n",
    ":lines: 2-10\n",
    ":emphasize-lines: 4,7\n",
    "```\n",
    "\n",
    "Sadly, I have not found a way to format text output directly:"
   ]
  },
  {
   "cell_type": "code",
   "execution_count": 1,
   "id": "56c6a33c",
   "metadata": {
    "tags": [
     "hide-input"
    ]
   },
   "outputs": [
    {
     "name": "stdout",
     "output_type": "stream",
     "text": [
      "[\n",
      "  {\n",
      "    \"@id\": \"https://isamples.org/data/test1.jsonld\",\n",
      "    \"@type\": [\n",
      "      \"http://schema.org/Dataset\"\n",
      "    ],\n",
      "    \"http://schema.org/identifier\": [\n",
      "      {\n",
      "        \"@value\": \"test1.jsonld\"\n",
      "      }\n",
      "    ],\n",
      "    \"http://schema.org/name\": [\n",
      "      {\n",
      "        \"@value\": \"Test dataset with some pieces\"\n",
      "      }\n",
      "    ]\n",
      "  }\n",
      "]\n"
     ]
    }
   ],
   "source": [
    "import json\n",
    "import pyld\n",
    "import os\n",
    "import requests\n",
    "\n",
    "SO_CONTEXT = {\n",
    "    \"http://schema.org\": \"jsonldcontext.jsonld\",\n",
    "    \"http://schema.org/\": \"jsonldcontext.jsonld\",\n",
    "    \"https://schema.org\": \"jsonldcontext.jsonld\",\n",
    "    \"https://schema.org/\": \"jsonldcontext.jsonld\",\n",
    "}\n",
    "\n",
    "if not os.path.exists(\"jsonldcontext.jsonld\"):\n",
    "    with open(\"jsonldcontext.jsonld\", \"w\") as outf:\n",
    "        outf.write(requests.get(\"https://schema.org/docs/jsonldcontext.jsonld\").text)\n",
    "\n",
    "def localDocumentLoader(context_map={}):\n",
    "\n",
    "    def localDocumentLoaderImpl(url, options={}):\n",
    "        _url = url.lower().strip()\n",
    "        doc = context_map.get(_url, None)\n",
    "        if not doc is None:\n",
    "            res = {\n",
    "                \"contextUrl\": None,\n",
    "                \"documentUrl\": \"https://schema.org/docs/jsonldcontext.jsonld\",\n",
    "                \"contentType\": \"application/ld+json\",\n",
    "                \"document\": json.load(open(doc, \"r\")),\n",
    "            }\n",
    "            return res\n",
    "        loader = pyld.jsonld.requests_document_loader()\n",
    "        return loader(url)\n",
    "    \n",
    "    return localDocumentLoaderImpl\n",
    "    \n",
    "\n",
    "with open(\"test1.jsonld\") as inf:\n",
    "    doc = json.load(inf)\n",
    "options = {\"documentLoader\": localDocumentLoader(context_map=SO_CONTEXT)}\n",
    "expanded = pyld.jsonld.expand(doc, options)\n",
    "print(json.dumps(expanded, indent=2))\n",
    "with open(\"tmp.jsonld\", \"w\") as outf:\n",
    "    json.dump(expanded, outf, indent=2)"
   ]
  },
  {
   "cell_type": "markdown",
   "id": "90b283ef",
   "metadata": {},
   "source": [
    "Except by writing to a file and including:\n",
    "\n",
    "```{literalinclude} tmp.jsonld\n",
    ":linenos:\n",
    ":emphasize-lines: 3\n",
    "```"
   ]
  }
 ],
 "metadata": {
  "execution": {
   "allow_errors": true
  },
  "jupytext": {
   "formats": "md:myst",
   "text_representation": {
    "extension": ".md",
    "format_name": "myst"
   }
  },
  "kernelspec": {
   "display_name": "Python 3",
   "language": "python",
   "name": "python3"
  },
  "language_info": {
   "codemirror_mode": {
    "name": "ipython",
    "version": 3
   },
   "file_extension": ".py",
   "mimetype": "text/x-python",
   "name": "python",
   "nbconvert_exporter": "python",
   "pygments_lexer": "ipython3",
   "version": "3.9.5"
  },
  "source_map": [
   13,
   40,
   85
  ]
 },
 "nbformat": 4,
 "nbformat_minor": 5
}